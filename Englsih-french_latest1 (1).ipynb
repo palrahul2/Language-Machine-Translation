{
 "cells": [
  {
   "cell_type": "markdown",
   "metadata": {},
   "source": [
    "# Introduction"
   ]
  },
  {
   "cell_type": "markdown",
   "metadata": {},
   "source": [
    " “If you talk to a man in a language he understands, that goes to his head. If you talk to him in his own language, that goes to his heart.” – Nelson Mandela The skills of translation are becoming ever more important and desirable. Today’s multicultural and multilingual society demands effective, efficient, and empathetic communication between languages and cultures. That’s important for various reasons. i) Not Everybody Speaks English(Global language). ii) It Enables A Global Economy. iii) The Spread of Information and Ideas.\n",
    "\n",
    "Problem statement: The objective is to convert a Engish sentence to its Hindi counterpart using a Neural Machine Translation (NMT) system. The goal is to build a model with the help of neural networks, using python (precisely Tensorflow, keras), which translates the text into desired language. But, for this model to build, we need good size of the pre-translated data and then data should be prepared for the further process of building the model.\n",
    "\n",
    "Background : \"Machine Translation\" is generally known as MT (abbreviation), and it deals with the investigation of the use of software to translate text or speech from one language to another. i) Machine Translation is not a new idea, it was proposed few decades before, more precisely around 1949 in Warren weaver's Memorandum on Translation. ii) It is also said that this idea of universal language with equivalent idea in different tongues sharing one symbol is proposed by Rene Descartes in 1629. iii) From 1949 on wards there is a long list of researchers contributed to this idea in different ways and it is materialized in 21st century through the advancement of modern scientific computation. Human translation can be explained as decoding the meaning of the text from the source language and re-encoding the meaning into the target language.As this process is concerned, one should know the basic rules of both the languages (source language and target language), precisely the {Grammar}. This suggests that it involves a lot of human intuitions. To carry out this using machine (computationally) is a big challenge. So, for making this possible, it cannot be done automatocally, a kind of human aid is needed. So, the different approaches have evolved with the time to attain the needed accuracy. There are some of the approaches are mentioned below 1) Rule-Based machine translation 2) Statistical machine translation 3) Example based machine translation 4) Hybrid machine translation 5) Neural machine translation\n",
    "\n",
    "dataset explanation: The data taken is for English to French (fra.txt) , it constitutes of 1044268 sentences. The sentences are split into words and tokenized and then used for further process.\n",
    "\n",
    "Overall approach and major steps: Implementation of Sequence-to-Sequence (Seq2Seq) Modeling in Python using Keras. Major steps to follow: 1) Import the Required Libraries 2) Read the Data into our IDE 3) Text Cleaning 4) Text to Sequence Conversion 5) Model Building\n",
    "\n",
    "The dependent packages: 1) Tensorflow 2) keras 3) string 4) re 5) numpy 6) pandas 7) matplotlib\n"
   ]
  },
  {
   "cell_type": "code",
   "execution_count": 3,
   "metadata": {},
   "outputs": [],
   "source": [
    "import tensorflow \n",
    "import keras"
   ]
  },
  {
   "cell_type": "code",
   "execution_count": 4,
   "metadata": {},
   "outputs": [],
   "source": [
    "import string\n",
    "import re\n",
    "from numpy import array, argmax, random, take\n",
    "import pandas as pd\n",
    "from keras.models import Sequential\n",
    "from keras.layers import Dense, LSTM, Embedding, RepeatVector\n",
    "from keras.preprocessing.text import Tokenizer\n",
    "from keras.callbacks import ModelCheckpoint\n",
    "from keras.preprocessing.sequence import pad_sequences\n",
    "from keras.models import load_model\n",
    "from keras import optimizers\n",
    "import matplotlib.pyplot as plt\n",
    "%matplotlib inline\n",
    "pd.set_option('display.max_colwidth', 200)"
   ]
  },
  {
   "cell_type": "markdown",
   "metadata": {},
   "source": [
    "Our data is a text file (.txt) of English-French sentence pairs. First, we will read the file using the function defined below."
   ]
  },
  {
   "cell_type": "code",
   "execution_count": 5,
   "metadata": {},
   "outputs": [],
   "source": [
    "# function to read raw text file\n",
    "def read_text(filename):\n",
    "        # open the file\n",
    "        file = open(filename, mode='rt', encoding='utf-8')\n",
    "        \n",
    "        # read all text\n",
    "        text = file.read()\n",
    "        file.close()\n",
    "        return text"
   ]
  },
  {
   "cell_type": "markdown",
   "metadata": {},
   "source": [
    "We’ll then split these pairs into English sentences and French sentences respectively."
   ]
  },
  {
   "cell_type": "code",
   "execution_count": 6,
   "metadata": {},
   "outputs": [],
   "source": [
    "# split a text into sentences\n",
    "def to_lines(text):\n",
    "      sents = text.strip().split('\\n')\n",
    "      sents = [i.split('\\t') for i in sents]\n",
    "      return sents"
   ]
  },
  {
   "cell_type": "markdown",
   "metadata": {},
   "source": [
    "We can now use these functions to read the text into an array in our desired format."
   ]
  },
  {
   "cell_type": "code",
   "execution_count": 7,
   "metadata": {},
   "outputs": [],
   "source": [
    "data = read_text(\"fra.txt\")\n",
    "fra_eng = to_lines(data)\n",
    "fra_eng = array(fra_eng)"
   ]
  },
  {
   "cell_type": "markdown",
   "metadata": {},
   "source": [
    "Let’s first take a look at our data. This will help us decide which pre-processing steps to adopt."
   ]
  },
  {
   "cell_type": "code",
   "execution_count": 8,
   "metadata": {},
   "outputs": [
    {
     "data": {
      "text/plain": [
       "array([['Go.', 'Va !'],\n",
       "       ['Hi.', 'Salut !'],\n",
       "       ['Run!', 'Cours\\u202f!'],\n",
       "       ...,\n",
       "       ['Since there are usually multiple websites on any given topic, I usually just click the back button when I arrive on any webpage that has pop-up advertising. I just go to the next page found by Google and hope for something less irritating.',\n",
       "        \"Puisqu'il y a de multiples sites web sur chaque sujet, je clique d'habitude sur le bouton retour arrière lorsque j'atterris sur n'importe quelle page qui contient des publicités surgissantes. Je me rends juste sur la prochaine page proposée par Google et espère tomber sur quelque chose de moins irritant.\"],\n",
       "       [\"If someone who doesn't know your background says that you sound like a native speaker, it means they probably noticed something about your speaking that made them realize you weren't a native speaker. In other words, you don't really sound like a native speaker.\",\n",
       "        \"Si quelqu'un qui ne connaît pas vos antécédents dit que vous parlez comme un locuteur natif, cela veut dire qu'il a probablement remarqué quelque chose à propos de votre élocution qui l'a fait prendre conscience que vous n'êtes pas un locuteur natif. En d'autres termes, vous ne parlez pas vraiment comme un locuteur natif.\"],\n",
       "       ['It may be impossible to get a completely error-free corpus due to the nature of this kind of collaborative effort. However, if we encourage members to contribute sentences in their own languages rather than experiment in languages they are learning, we might be able to minimize errors.',\n",
       "        \"Il est peut-être impossible d'obtenir un Corpus complètement dénué de fautes, étant donnée la nature de ce type d'entreprise collaborative. Cependant, si nous encourageons les membres à produire des phrases dans leurs propres langues plutôt que d'expérimenter dans les langues qu'ils apprennent, nous pourrions être en mesure de réduire les erreurs.\"]],\n",
       "      dtype='<U349')"
      ]
     },
     "execution_count": 8,
     "metadata": {},
     "output_type": "execute_result"
    }
   ],
   "source": [
    "fra_eng"
   ]
  },
  {
   "cell_type": "code",
   "execution_count": 8,
   "metadata": {},
   "outputs": [
    {
     "data": {
      "text/plain": [
       "160872"
      ]
     },
     "execution_count": 8,
     "metadata": {},
     "output_type": "execute_result"
    }
   ],
   "source": [
    "len(fra_eng)"
   ]
  },
  {
   "cell_type": "markdown",
   "metadata": {},
   "source": [
    "The actual data contains over 160872 sentence-pairs. However, we will use full data. You can change this number as per your system’s computation power."
   ]
  },
  {
   "cell_type": "code",
   "execution_count": 9,
   "metadata": {},
   "outputs": [],
   "source": [
    "fra_eng = fra_eng[:160872,:]"
   ]
  },
  {
   "cell_type": "markdown",
   "metadata": {},
   "source": [
    "We will get rid of the punctuation marks and then convert all the text to lower case."
   ]
  },
  {
   "cell_type": "code",
   "execution_count": 10,
   "metadata": {},
   "outputs": [
    {
     "data": {
      "text/plain": [
       "array([['Go', 'Va '],\n",
       "       ['Hi', 'Salut '],\n",
       "       ['Run', 'Cours\\u202f'],\n",
       "       ...,\n",
       "       ['Since there are usually multiple websites on any given topic I usually just click the back button when I arrive on any webpage that has popup advertising I just go to the next page found by Google and hope for something less irritating',\n",
       "        'Puisquil y a de multiples sites web sur chaque sujet je clique dhabitude sur le bouton retour arrière lorsque jatterris sur nimporte quelle page qui contient des publicités surgissantes Je me rends juste sur la prochaine page proposée par Google et espère tomber sur quelque chose de moins irritant'],\n",
       "       ['If someone who doesnt know your background says that you sound like a native speaker it means they probably noticed something about your speaking that made them realize you werent a native speaker In other words you dont really sound like a native speaker',\n",
       "        'Si quelquun qui ne connaît pas vos antécédents dit que vous parlez comme un locuteur natif cela veut dire quil a probablement remarqué quelque chose à propos de votre élocution qui la fait prendre conscience que vous nêtes pas un locuteur natif En dautres termes vous ne parlez pas vraiment comme un locuteur natif'],\n",
       "       ['It may be impossible to get a completely errorfree corpus due to the nature of this kind of collaborative effort However if we encourage members to contribute sentences in their own languages rather than experiment in languages they are learning we might be able to minimize errors',\n",
       "        'Il est peutêtre impossible dobtenir un Corpus complètement dénué de fautes étant donnée la nature de ce type dentreprise collaborative Cependant si nous encourageons les membres à produire des phrases dans leurs propres langues plutôt que dexpérimenter dans les langues quils apprennent nous pourrions être en mesure de réduire les erreurs']],\n",
       "      dtype='<U349')"
      ]
     },
     "execution_count": 10,
     "metadata": {},
     "output_type": "execute_result"
    }
   ],
   "source": [
    "# Remove punctuation\n",
    "fra_eng[:,0] = [s.translate(str.maketrans('', '', string.punctuation)) for s in fra_eng[:,0]]\n",
    "fra_eng[:,1] = [s.translate(str.maketrans('', '', string.punctuation)) for s in fra_eng[:,1]]\n",
    "\n",
    "fra_eng"
   ]
  },
  {
   "cell_type": "code",
   "execution_count": 12,
   "metadata": {},
   "outputs": [
    {
     "data": {
      "text/plain": [
       "array([['go', 'va '],\n",
       "       ['hi', 'salut '],\n",
       "       ['run', 'cours\\u202f'],\n",
       "       ...,\n",
       "       ['since there are usually multiple websites on any given topic i usually just click the back button when i arrive on any webpage that has popup advertising i just go to the next page found by google and hope for something less irritating',\n",
       "        'puisquil y a de multiples sites web sur chaque sujet je clique dhabitude sur le bouton retour arrière lorsque jatterris sur nimporte quelle page qui contient des publicités surgissantes je me rends juste sur la prochaine page proposée par google et espère tomber sur quelque chose de moins irritant'],\n",
       "       ['if someone who doesnt know your background says that you sound like a native speaker it means they probably noticed something about your speaking that made them realize you werent a native speaker in other words you dont really sound like a native speaker',\n",
       "        'si quelquun qui ne connaît pas vos antécédents dit que vous parlez comme un locuteur natif cela veut dire quil a probablement remarqué quelque chose à propos de votre élocution qui la fait prendre conscience que vous nêtes pas un locuteur natif en dautres termes vous ne parlez pas vraiment comme un locuteur natif'],\n",
       "       ['it may be impossible to get a completely errorfree corpus due to the nature of this kind of collaborative effort however if we encourage members to contribute sentences in their own languages rather than experiment in languages they are learning we might be able to minimize errors',\n",
       "        'il est peutêtre impossible dobtenir un corpus complètement dénué de fautes étant donnée la nature de ce type dentreprise collaborative cependant si nous encourageons les membres à produire des phrases dans leurs propres langues plutôt que dexpérimenter dans les langues quils apprennent nous pourrions être en mesure de réduire les erreurs']],\n",
       "      dtype='<U349')"
      ]
     },
     "execution_count": 12,
     "metadata": {},
     "output_type": "execute_result"
    }
   ],
   "source": [
    "# convert text to lowercase\n",
    "for i in range(len(fra_eng)):\n",
    "    fra_eng[i,0] = fra_eng[i,0].lower()\n",
    "    fra_eng[i,1] = fra_eng[i,1].lower()\n",
    "\n",
    "fra_eng"
   ]
  },
  {
   "cell_type": "markdown",
   "metadata": {},
   "source": [
    "A Seq2Seq model requires that we convert both the input and the output sentences into integer sequences of fixed length.\n",
    "\n",
    "But before we do that, let’s visualise the length of the sentences. We will capture the lengths of all the sentences in two separate lists for English and French, respectively.\n"
   ]
  },
  {
   "cell_type": "code",
   "execution_count": 13,
   "metadata": {},
   "outputs": [
    {
     "data": {
      "image/png": "[encoded data removed]",
      "text/plain": [
       "<Figure size 432x288 with 2 Axes>"
      ]
     },
     "metadata": {
      "needs_background": "light"
     },
     "output_type": "display_data"
    }
   ],
   "source": [
    "# empty lists\n",
    "eng_l = []\n",
    "fra_l = []\n",
    "\n",
    "# populate the lists with sentence lengths\n",
    "for i in fra_eng[:,0]:\n",
    "      eng_l.append(len(i.split()))\n",
    "\n",
    "for i in fra_eng[:,1]:\n",
    "      fra_l.append(len(i.split()))\n",
    "\n",
    "length_df = pd.DataFrame({'eng':eng_l, 'fra':fra_l})\n",
    "\n",
    "length_df.hist(bins = 30)\n",
    "plt.show()"
   ]
  },
  {
   "cell_type": "code",
   "execution_count": 14,
   "metadata": {},
   "outputs": [
    {
     "data": {
      "text/plain": [
       "['go', 'away']"
      ]
     },
     "execution_count": 14,
     "metadata": {},
     "output_type": "execute_result"
    }
   ],
   "source": [
    "fra_eng[115,0].split()"
   ]
  },
  {
   "cell_type": "code",
   "execution_count": 15,
   "metadata": {},
   "outputs": [
    {
     "data": {
      "text/plain": [
       "2"
      ]
     },
     "execution_count": 15,
     "metadata": {},
     "output_type": "execute_result"
    }
   ],
   "source": [
    "len(fra_eng[115,0].split())"
   ]
  },
  {
   "cell_type": "markdown",
   "metadata": {},
   "source": [
    "Quite intuitive – the maximum length of the French sentences is 15 and that of the English phrases is 15.\n",
    "\n",
    "Next, vectorize our text data by using Keras’s Tokenizer() class. \n",
    "It will turn our sentences into sequences of integers. \n",
    "We can then pad those sequences with zeros to make all the sequences of the same length.\n",
    "\n",
    "Note that we will prepare tokenizers for both the French and English sentences:"
   ]
  },
  {
   "cell_type": "code",
   "execution_count": 16,
   "metadata": {},
   "outputs": [],
   "source": [
    "# function to build a tokenizer\n",
    "def tokenization(lines):\n",
    "      tokenizer = Tokenizer()\n",
    "      tokenizer.fit_on_texts(lines)\n",
    "      return tokenizer"
   ]
  },
  {
   "cell_type": "code",
   "execution_count": 39,
   "metadata": {},
   "outputs": [
    {
     "name": "stdout",
     "output_type": "stream",
     "text": [
      "English Vocabulary Size: 14347\n"
     ]
    }
   ],
   "source": [
    "# prepare english tokenizer\n",
    "eng_tokenizer = tokenization(fra_eng[:, 0])\n",
    "eng_vocab_size = len(eng_tokenizer.word_index) + 1\n",
    "\n",
    "eng_length = 15\n",
    "print('English Vocabulary Size: %d' % eng_vocab_size)"
   ]
  },
  {
   "cell_type": "code",
   "execution_count": 40,
   "metadata": {},
   "outputs": [
    {
     "name": "stdout",
     "output_type": "stream",
     "text": [
      "french Vocabulary Size: 32113\n"
     ]
    }
   ],
   "source": [
    "# prepare Deutch tokenizer\n",
    "fra_tokenizer = tokenization(fra_eng[:, 1])\n",
    "fra_vocab_size = len(fra_tokenizer.word_index) + 1\n",
    "\n",
    "fra_length =15\n",
    "print('french Vocabulary Size: %d' % fra_vocab_size)"
   ]
  },
  {
   "cell_type": "markdown",
   "metadata": {},
   "source": [
    "The below code block contains a function to prepare the sequences. \n",
    "It will also perform sequence padding to a maximum sentence length as mentioned above."
   ]
  },
  {
   "cell_type": "code",
   "execution_count": 41,
   "metadata": {},
   "outputs": [],
   "source": [
    "# encode and pad sequences\n",
    "def encode_sequences(tokenizer, length, lines):\n",
    "         # integer encode sequences\n",
    "         seq = tokenizer.texts_to_sequences(lines)\n",
    "         # pad sequences with 0 values\n",
    "         seq = pad_sequences(seq, maxlen=length, padding='post')\n",
    "         return seq"
   ]
  },
  {
   "cell_type": "markdown",
   "metadata": {},
   "source": [
    "We will now split the data into train and test set for model training and evaluation, respectively."
   ]
  },
  {
   "cell_type": "code",
   "execution_count": 42,
   "metadata": {},
   "outputs": [],
   "source": [
    "import sklearn"
   ]
  },
  {
   "cell_type": "code",
   "execution_count": 43,
   "metadata": {},
   "outputs": [],
   "source": [
    "from sklearn.model_selection import train_test_split\n",
    "\n",
    "# split data into train and test set\n",
    "train, test = train_test_split(fra_eng, test_size=0.1, random_state = 12)"
   ]
  },
  {
   "cell_type": "markdown",
   "metadata": {},
   "source": [
    "It’s time to encode the sentences. We will encode French sentences as the input sequences and English sentences as the target sequences. This has to be done for both the train and test datasets."
   ]
  },
  {
   "cell_type": "code",
   "execution_count": 44,
   "metadata": {},
   "outputs": [],
   "source": [
    "# prepare training data\n",
    "trainX = encode_sequences(fra_tokenizer, fra_length, train[:, 1])\n",
    "trainY = encode_sequences(eng_tokenizer, eng_length, train[:, 0])\n",
    "\n",
    "# prepare validation data\n",
    "testX = encode_sequences(fra_tokenizer, fra_length, test[:, 1])\n",
    "testY = encode_sequences(eng_tokenizer, eng_length, test[:, 0])"
   ]
  },
  {
   "cell_type": "markdown",
   "metadata": {},
   "source": [
    "We’ll start off by defining our Seq2Seq model architecture:\n",
    "\n",
    "For the encoder, we will use an embedding layer and an LSTM layer For the decoder, we will use another LSTM layer followed by a dense layer\n"
   ]
  },
  {
   "cell_type": "code",
   "execution_count": 45,
   "metadata": {},
   "outputs": [],
   "source": [
    "# build NMT model\n",
    "def define_model(in_vocab,out_vocab, in_timesteps,out_timesteps,units):\n",
    "      model = Sequential()\n",
    "      model.add(Embedding(in_vocab, units, input_length=in_timesteps, mask_zero=True))\n",
    "      model.add(LSTM(units))\n",
    "      model.add(RepeatVector(out_timesteps))\n",
    "      model.add(LSTM(units, return_sequences=True))\n",
    "      model.add(Dense(out_vocab, activation='softmax'))\n",
    "      return model"
   ]
  },
  {
   "cell_type": "markdown",
   "metadata": {},
   "source": [
    "We are using the RMSprop optimizer in this model as it’s usually a good choice when working with recurrent neural networks."
   ]
  },
  {
   "cell_type": "code",
   "execution_count": 46,
   "metadata": {},
   "outputs": [],
   "source": [
    "# model compilation\n",
    "model = define_model(fra_vocab_size, eng_vocab_size, fra_length, eng_length, 512)"
   ]
  },
  {
   "cell_type": "code",
   "execution_count": 47,
   "metadata": {},
   "outputs": [],
   "source": [
    "rms = optimizers.RMSprop(lr=0.001)\n",
    "model.compile(optimizer=rms, loss='sparse_categorical_crossentropy')"
   ]
  },
  {
   "cell_type": "markdown",
   "metadata": {},
   "source": [
    "Please note that we have used ‘sparse_categorical_crossentropy‘ as the loss function. This is because the function allows us to use the target sequence as is, instead of the one-hot encoded format. One-hot encoding the target sequences using such a huge vocabulary might consume our system’s entire memory.\n",
    "\n",
    "We are all set to start training our model!\n",
    "\n",
    "We will train it for 30 epochs and with a batch size of 512 with a validation split of 10%. 90% of the data will be used for training the model and the rest for evaluating it. You may change and play around with these hyperparameters.\n",
    "\n",
    "We will also use the ModelCheckpoint() function to save the model with the lowest validation loss.\n"
   ]
  },
  {
   "cell_type": "code",
   "execution_count": 66,
   "metadata": {},
   "outputs": [
    {
     "name": "stdout",
     "output_type": "stream",
     "text": [
      "Train on 130305 samples, validate on 14479 samples\n",
      "Epoch 1/30\n",
      "130305/130305 [==============================] - 1594s 12ms/step - loss: 2.8369 - val_loss: 2.5074\n",
      "\n",
      "Epoch 00001: val_loss improved from inf to 2.50737, saving model to model.h1.06_apr_19\n",
      "Epoch 2/30\n",
      "130305/130305 [==============================] - 1581s 12ms/step - loss: 2.3979 - val_loss: 2.2816\n",
      "\n",
      "Epoch 00002: val_loss improved from 2.50737 to 2.28162, saving model to model.h1.06_apr_19\n",
      "Epoch 3/30\n",
      "130305/130305 [==============================] - 1572s 12ms/step - loss: 2.1429 - val_loss: 2.0406\n",
      "\n",
      "Epoch 00003: val_loss improved from 2.28162 to 2.04061, saving model to model.h1.06_apr_19\n",
      "Epoch 4/30\n",
      "130305/130305 [==============================] - 1572s 12ms/step - loss: 1.9156 - val_loss: 1.8708\n",
      "\n",
      "Epoch 00004: val_loss improved from 2.04061 to 1.87082, saving model to model.h1.06_apr_19\n",
      "Epoch 5/30\n",
      "130305/130305 [==============================] - 1571s 12ms/step - loss: 1.7210 - val_loss: 1.6923\n",
      "\n",
      "Epoch 00005: val_loss improved from 1.87082 to 1.69232, saving model to model.h1.06_apr_19\n",
      "Epoch 6/30\n",
      "130305/130305 [==============================] - 1573s 12ms/step - loss: 1.5518 - val_loss: 1.5951\n",
      "\n",
      "Epoch 00006: val_loss improved from 1.69232 to 1.59513, saving model to model.h1.06_apr_19\n",
      "Epoch 7/30\n",
      "130305/130305 [==============================] - 1572s 12ms/step - loss: 1.4048 - val_loss: 1.4701\n",
      "\n",
      "Epoch 00007: val_loss improved from 1.59513 to 1.47005, saving model to model.h1.06_apr_19\n",
      "Epoch 8/30\n",
      "130305/130305 [==============================] - 1571s 12ms/step - loss: 1.2795 - val_loss: 1.3906\n",
      "\n",
      "Epoch 00008: val_loss improved from 1.47005 to 1.39058, saving model to model.h1.06_apr_19\n",
      "Epoch 9/30\n",
      "130305/130305 [==============================] - 1571s 12ms/step - loss: 1.1699 - val_loss: 1.3231\n",
      "\n",
      "Epoch 00009: val_loss improved from 1.39058 to 1.32315, saving model to model.h1.06_apr_19\n",
      "Epoch 10/30\n",
      "130305/130305 [==============================] - 1573s 12ms/step - loss: 1.0738 - val_loss: 1.2722\n",
      "\n",
      "Epoch 00010: val_loss improved from 1.32315 to 1.27222, saving model to model.h1.06_apr_19\n",
      "Epoch 11/30\n",
      "130305/130305 [==============================] - 1572s 12ms/step - loss: 0.9906 - val_loss: 1.2346\n",
      "\n",
      "Epoch 00011: val_loss improved from 1.27222 to 1.23456, saving model to model.h1.06_apr_19\n",
      "Epoch 12/30\n",
      "130305/130305 [==============================] - 1572s 12ms/step - loss: 0.9153 - val_loss: 1.2189\n",
      "\n",
      "Epoch 00012: val_loss improved from 1.23456 to 1.21889, saving model to model.h1.06_apr_19\n",
      "Epoch 13/30\n",
      "130305/130305 [==============================] - 1573s 12ms/step - loss: 0.8500 - val_loss: 1.1984\n",
      "\n",
      "Epoch 00013: val_loss improved from 1.21889 to 1.19841, saving model to model.h1.06_apr_19\n",
      "Epoch 14/30\n",
      "130305/130305 [==============================] - 1572s 12ms/step - loss: 0.7892 - val_loss: 1.1859\n",
      "\n",
      "Epoch 00014: val_loss improved from 1.19841 to 1.18594, saving model to model.h1.06_apr_19\n",
      "Epoch 15/30\n",
      "130305/130305 [==============================] - 1571s 12ms/step - loss: 0.7337 - val_loss: 1.1606\n",
      "\n",
      "Epoch 00015: val_loss improved from 1.18594 to 1.16065, saving model to model.h1.06_apr_19\n",
      "Epoch 16/30\n",
      "130305/130305 [==============================] - 1571s 12ms/step - loss: 0.6802 - val_loss: 1.1690\n",
      "\n",
      "Epoch 00016: val_loss did not improve from 1.16065\n",
      "Epoch 17/30\n",
      "130305/130305 [==============================] - 1572s 12ms/step - loss: 0.6334 - val_loss: 1.1791\n",
      "\n",
      "Epoch 00017: val_loss did not improve from 1.16065\n",
      "Epoch 18/30\n",
      "130305/130305 [==============================] - 1572s 12ms/step - loss: 0.5909 - val_loss: 1.1671\n",
      "\n",
      "Epoch 00018: val_loss did not improve from 1.16065\n",
      "Epoch 19/30\n",
      "130305/130305 [==============================] - 1572s 12ms/step - loss: 0.5513 - val_loss: 1.1661\n",
      "\n",
      "Epoch 00019: val_loss did not improve from 1.16065\n",
      "Epoch 20/30\n",
      "130305/130305 [==============================] - 1571s 12ms/step - loss: 0.5137 - val_loss: 1.1634\n",
      "\n",
      "Epoch 00020: val_loss did not improve from 1.16065\n",
      "Epoch 21/30\n",
      "130305/130305 [==============================] - 1572s 12ms/step - loss: 0.4786 - val_loss: 1.1712\n",
      "\n",
      "Epoch 00021: val_loss did not improve from 1.16065\n",
      "Epoch 22/30\n",
      "130305/130305 [==============================] - 1571s 12ms/step - loss: 0.4461 - val_loss: 1.1728\n",
      "\n",
      "Epoch 00022: val_loss did not improve from 1.16065\n",
      "Epoch 23/30\n",
      "130305/130305 [==============================] - 1571s 12ms/step - loss: 0.4163 - val_loss: 1.1881\n",
      "\n",
      "Epoch 00023: val_loss did not improve from 1.16065\n",
      "Epoch 24/30\n",
      "130305/130305 [==============================] - 1572s 12ms/step - loss: 0.3877 - val_loss: 1.2011\n",
      "\n",
      "Epoch 00024: val_loss did not improve from 1.16065\n",
      "Epoch 25/30\n",
      "130305/130305 [==============================] - 1572s 12ms/step - loss: 0.3626 - val_loss: 1.2044\n",
      "\n",
      "Epoch 00025: val_loss did not improve from 1.16065\n",
      "Epoch 26/30\n",
      "130305/130305 [==============================] - 1574s 12ms/step - loss: 0.3376 - val_loss: 1.2107\n",
      "\n",
      "Epoch 00026: val_loss did not improve from 1.16065\n",
      "Epoch 27/30\n",
      "130305/130305 [==============================] - 1571s 12ms/step - loss: 0.3154 - val_loss: 1.2215\n",
      "\n",
      "Epoch 00027: val_loss did not improve from 1.16065\n",
      "Epoch 28/30\n",
      "130305/130305 [==============================] - 1571s 12ms/step - loss: 0.2949 - val_loss: 1.2317\n",
      "\n",
      "Epoch 00028: val_loss did not improve from 1.16065\n",
      "Epoch 29/30\n",
      "130305/130305 [==============================] - 1572s 12ms/step - loss: 0.2754 - val_loss: 1.2609\n",
      "\n",
      "Epoch 00029: val_loss did not improve from 1.16065\n",
      "Epoch 30/30\n",
      "130305/130305 [==============================] - 1571s 12ms/step - loss: 0.2586 - val_loss: 1.2589\n",
      "\n",
      "Epoch 00030: val_loss did not improve from 1.16065\n"
     ]
    }
   ],
   "source": [
    "filename = 'model.h1.06_apr_19'\n",
    "checkpoint = ModelCheckpoint(filename, monitor='val_loss', verbose=1, save_best_only=True, mode='min')\n",
    "\n",
    "# train model\n",
    "history = model.fit(trainX, trainY.reshape(trainY.shape[0], trainY.shape[1], 1),\n",
    "                    epochs=30, batch_size=512, validation_split = 0.1,callbacks=[checkpoint], \n",
    "                    verbose=1)"
   ]
  },
  {
   "cell_type": "markdown",
   "metadata": {},
   "source": [
    "Let’s compare the training loss and the validation loss."
   ]
  },
  {
   "cell_type": "code",
   "execution_count": 67,
   "metadata": {},
   "outputs": [
    {
     "data": {
      "image/png": "[encoded data removed]",
      "text/plain": [
       "<Figure size 432x288 with 1 Axes>"
      ]
     },
     "metadata": {
      "needs_background": "light"
     },
     "output_type": "display_data"
    }
   ],
   "source": [
    "plt.plot(history.history['loss'])\n",
    "plt.plot(history.history['val_loss'])\n",
    "plt.legend(['train','validation'])\n",
    "plt.show()"
   ]
  },
  {
   "cell_type": "markdown",
   "metadata": {},
   "source": [
    "As you can see in the above plot, the validation loss stopped decreasing after 10 epochs.\n",
    "\n",
    "Finally, we can load the saved model and make predictions on the unseen data – testY.\n"
   ]
  },
  {
   "cell_type": "code",
   "execution_count": 48,
   "metadata": {},
   "outputs": [],
   "source": [
    "model = load_model('model.h1.06_apr_19')\n",
    "preds = model.predict_classes(testX.reshape((testX.shape[0],testX.shape[1])))"
   ]
  },
  {
   "cell_type": "markdown",
   "metadata": {},
   "source": [
    "These predictions are sequences of integers. We need to convert these integers to their corresponding words. Let’s define a function to do this:"
   ]
  },
  {
   "cell_type": "code",
   "execution_count": 49,
   "metadata": {},
   "outputs": [],
   "source": [
    "def get_word(n, tokenizer):\n",
    "      for word, index in tokenizer.word_index.items():\n",
    "          if index == n:\n",
    "              return word\n",
    "      return None"
   ]
  },
  {
   "cell_type": "markdown",
   "metadata": {},
   "source": [
    "Convert predictions into text (English)"
   ]
  },
  {
   "cell_type": "code",
   "execution_count": 50,
   "metadata": {},
   "outputs": [],
   "source": [
    "preds_text = []\n",
    "for i in preds:\n",
    "       temp = []\n",
    "       for j in range(len(i)):\n",
    "            t = get_word(i[j], eng_tokenizer)\n",
    "            if j > 0:\n",
    "                if (t == get_word(i[j-1], eng_tokenizer)) or (t == None):\n",
    "                     temp.append('')\n",
    "                else:\n",
    "                     temp.append(t)\n",
    "            else:\n",
    "                   if(t == None):\n",
    "                          temp.append('')\n",
    "                   else:\n",
    "                          temp.append(t) \n",
    "\n",
    "       preds_text.append(' '.join(temp))"
   ]
  },
  {
   "cell_type": "code",
   "execution_count": 51,
   "metadata": {},
   "outputs": [],
   "source": [
    "pred_df = pd.DataFrame({'actual' : test[:,0], 'predicted' : preds_text})"
   ]
  },
  {
   "cell_type": "markdown",
   "metadata": {},
   "source": [
    "We can randomly print some actual vs predicted instances to see how our model performs:"
   ]
  },
  {
   "cell_type": "code",
   "execution_count": 52,
   "metadata": {},
   "outputs": [
    {
     "data": {
      "text/html": [
       "<div>\n",
       "<style scoped>\n",
       "    .dataframe tbody tr th:only-of-type {\n",
       "        vertical-align: middle;\n",
       "    }\n",
       "\n",
       "    .dataframe tbody tr th {\n",
       "        vertical-align: top;\n",
       "    }\n",
       "\n",
       "    .dataframe thead th {\n",
       "        text-align: right;\n",
       "    }\n",
       "</style>\n",
       "<table border=\"1\" class=\"dataframe\">\n",
       "  <thead>\n",
       "    <tr style=\"text-align: right;\">\n",
       "      <th></th>\n",
       "      <th>actual</th>\n",
       "      <th>predicted</th>\n",
       "    </tr>\n",
       "  </thead>\n",
       "  <tbody>\n",
       "    <tr>\n",
       "      <th>8379</th>\n",
       "      <td>they painted the fence green</td>\n",
       "      <td>they painted the fence green</td>\n",
       "    </tr>\n",
       "    <tr>\n",
       "      <th>11766</th>\n",
       "      <td>why did you paint this wall black</td>\n",
       "      <td>why did you paint the wall</td>\n",
       "    </tr>\n",
       "    <tr>\n",
       "      <th>10957</th>\n",
       "      <td>mary is not wearing a bra</td>\n",
       "      <td>mary is wears like</td>\n",
       "    </tr>\n",
       "    <tr>\n",
       "      <th>8398</th>\n",
       "      <td>she was breathing hard</td>\n",
       "      <td>she is with</td>\n",
       "    </tr>\n",
       "    <tr>\n",
       "      <th>1826</th>\n",
       "      <td>im not done with you yet</td>\n",
       "      <td>im not done with you yet</td>\n",
       "    </tr>\n",
       "    <tr>\n",
       "      <th>12372</th>\n",
       "      <td>tom lost</td>\n",
       "      <td>tom lost</td>\n",
       "    </tr>\n",
       "    <tr>\n",
       "      <th>8855</th>\n",
       "      <td>i regret doing that</td>\n",
       "      <td>i regret that</td>\n",
       "    </tr>\n",
       "    <tr>\n",
       "      <th>9292</th>\n",
       "      <td>what does your son do</td>\n",
       "      <td>what made your you</td>\n",
       "    </tr>\n",
       "    <tr>\n",
       "      <th>11998</th>\n",
       "      <td>everyones out</td>\n",
       "      <td>everyones is</td>\n",
       "    </tr>\n",
       "    <tr>\n",
       "      <th>304</th>\n",
       "      <td>you could get arrested for that</td>\n",
       "      <td>the police could stop this that</td>\n",
       "    </tr>\n",
       "    <tr>\n",
       "      <th>13601</th>\n",
       "      <td>my mother has made me what i am today</td>\n",
       "      <td>my mother made  what  was</td>\n",
       "    </tr>\n",
       "    <tr>\n",
       "      <th>984</th>\n",
       "      <td>i caught them in the act</td>\n",
       "      <td>i caught up in the</td>\n",
       "    </tr>\n",
       "    <tr>\n",
       "      <th>6241</th>\n",
       "      <td>are you telling me youre not involved</td>\n",
       "      <td>are you telling me youre not involved</td>\n",
       "    </tr>\n",
       "    <tr>\n",
       "      <th>9076</th>\n",
       "      <td>you werent serious were you</td>\n",
       "      <td>you werent serious</td>\n",
       "    </tr>\n",
       "    <tr>\n",
       "      <th>787</th>\n",
       "      <td>youre supposed to help your friends when theyre in trouble</td>\n",
       "      <td>you supposed to help friends   theyre in</td>\n",
       "    </tr>\n",
       "  </tbody>\n",
       "</table>\n",
       "</div>"
      ],
      "text/plain": [
       "                                                           actual  \\\n",
       "8379                                 they painted the fence green   \n",
       "11766                           why did you paint this wall black   \n",
       "10957                                   mary is not wearing a bra   \n",
       "8398                                       she was breathing hard   \n",
       "1826                                     im not done with you yet   \n",
       "12372                                                    tom lost   \n",
       "8855                                          i regret doing that   \n",
       "9292                                        what does your son do   \n",
       "11998                                               everyones out   \n",
       "304                               you could get arrested for that   \n",
       "13601                       my mother has made me what i am today   \n",
       "984                                      i caught them in the act   \n",
       "6241                        are you telling me youre not involved   \n",
       "9076                                  you werent serious were you   \n",
       "787    youre supposed to help your friends when theyre in trouble   \n",
       "\n",
       "                                            predicted  \n",
       "8379           they painted the fence green            \n",
       "11766             why did you paint the wall           \n",
       "10957                   mary is wears like             \n",
       "8398                          she is with              \n",
       "1826                im not done with you yet           \n",
       "12372                           tom lost               \n",
       "8855                        i regret that              \n",
       "9292                    what made your you             \n",
       "11998                       everyones is               \n",
       "304          the police could stop this that           \n",
       "13601               my mother made  what  was          \n",
       "984                      i caught up in the            \n",
       "6241    are you telling me youre not involved          \n",
       "9076                   you werent serious              \n",
       "787    you supposed to help friends   theyre in        "
      ]
     },
     "execution_count": 52,
     "metadata": {},
     "output_type": "execute_result"
    }
   ],
   "source": [
    "# print 15 rows randomly\n",
    "pred_df.sample(15)"
   ]
  },
  {
   "cell_type": "markdown",
   "metadata": {},
   "source": [
    "Our Seq2Seq model does a decent job. But there are several instances where it misses out on understanding the key words."
   ]
  },
  {
   "cell_type": "code",
   "execution_count": null,
   "metadata": {},
   "outputs": [],
   "source": []
  }
 ],
 "metadata": {
  "kernelspec": {
   "display_name": "Python 3",
   "language": "python",
   "name": "python3"
  },
  "language_info": {
   "codemirror_mode": {
    "name": "ipython",
    "version": 3
   },
   "file_extension": ".py",
   "mimetype": "text/x-python",
   "name": "python",
   "nbconvert_exporter": "python",
   "pygments_lexer": "ipython3",
   "version": "3.7.0"
  }
 },
 "nbformat": 4,
 "nbformat_minor": 2
}
