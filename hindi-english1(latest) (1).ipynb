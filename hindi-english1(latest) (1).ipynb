{
 "cells": [
  {
   "cell_type": "markdown",
   "metadata": {},
   "source": [
    "# Introduction "
   ]
  },
  {
   "cell_type": "markdown",
   "metadata": {},
   "source": [
    "   “If you talk to a man in a language he understands, that goes to his head. If you talk to him in his own language, that goes to his heart.” – Nelson Mandela\n",
    "   The skills of translation are becoming ever more important and desirable. Today’s multicultural and multilingual society demands effective, efficient, and empathetic communication between languages and cultures. That’s important for various reasons.\n",
    "     i)  Not Everybody Speaks English(Global language).\n",
    "    ii)  It Enables A Global Economy.\n",
    "   iii)  The Spread of Information and Ideas.\n",
    "       \n",
    "Problem statement:\n",
    "    The objective is to convert a Engish sentence to its Hindi counterpart using a Neural Machine Translation (NMT) system.\n",
    "The goal is to build a model with the help of neural networks, using python (precisely Tensorflow, keras), which translates the text into desired language. But, for this model to build, we need good size of the pre-translated data and then data should be prepared for the further process of building the model.\n",
    "    \n",
    "Background :\n",
    "    \"Machine Translation\" is generally known as MT (abbreviation), and it deals with the investigation of the use of software to translate text or speech from one language to another. \n",
    "      i) Machine Translation is not a new idea, it was proposed few decades before, more precisely around 1949 in Warren weaver's Memorandum on Translation. \n",
    "     ii) It is also said that this idea of universal language with equivalent idea in different tongues sharing one symbol is proposed by Rene Descartes in 1629.\n",
    "    iii) From 1949 on wards there is a long list of researchers contributed to this idea in different ways and it is materialized in 21st century through the advancement of modern scientific computation.\n",
    "    Human translation can be explained as decoding the meaning of the text from the source language and re-encoding the meaning into the target language.As this process is concerned, one should know the basic rules of both the languages (source language and target language), precisely the {Grammar}. This suggests that it involves a lot of human intuitions. To carry out this using machine (computationally) is a big challenge. So, for making this possible, it cannot be done automatocally, a kind of human aid is needed. So, the different approaches have evolved with the time to attain the needed accuracy.\n",
    "    There are some of the approaches are mentioned below\n",
    "    1) Rule-Based machine translation \n",
    "    2) Statistical machine translation\n",
    "    3) Example based machine translation\n",
    "    4) Hybrid machine translation \n",
    "    5) Neural machine translation\n",
    "    \n",
    "dataset explanation:\n",
    "    The data taken is for English to Hindi (hin-eng.txt) , it constitutes of 1044268 sentences. The sentences are split into words and tokenized and then used for further process.\n",
    "\n",
    "Overall approach and major steps:\n",
    "    Implementation of Sequence-to-Sequence (Seq2Seq) Modeling in Python using Keras.\n",
    "Major steps to follow:\n",
    "    1) Import the Required Libraries\n",
    "    2) Read the Data into our IDE\n",
    "    3) Text Cleaning\n",
    "    4) Text to Sequence Conversion\n",
    "    5) Model Building\n",
    "    \n",
    "The dependent packages:\n",
    "    1) Tensorflow\n",
    "    2) keras\n",
    "    3) string\n",
    "    4) re\n",
    "    5) numpy\n",
    "    6) pandas\n",
    "    7) matplotlib"
   ]
  },
  {
   "cell_type": "code",
   "execution_count": 31,
   "metadata": {},
   "outputs": [],
   "source": [
    "import tensorflow \n",
    "import keras"
   ]
  },
  {
   "cell_type": "code",
   "execution_count": 32,
   "metadata": {},
   "outputs": [],
   "source": [
    "import string\n",
    "import re\n",
    "from numpy import array, argmax, random, take\n",
    "import pandas as pd\n",
    "from keras.models import Sequential\n",
    "from keras.layers import Dense, LSTM, Embedding, RepeatVector\n",
    "from keras.preprocessing.text import Tokenizer\n",
    "from keras.callbacks import ModelCheckpoint\n",
    "from keras.preprocessing.sequence import pad_sequences\n",
    "from keras.models import load_model\n",
    "from keras import optimizers\n",
    "import matplotlib.pyplot as plt\n",
    "%matplotlib inline\n",
    "pd.set_option('display.max_colwidth', 200)"
   ]
  },
  {
   "cell_type": "markdown",
   "metadata": {},
   "source": [
    "Our data is a text file (.txt) of English-Hindi sentence pairs. First, we will read the file using the function defined below."
   ]
  },
  {
   "cell_type": "code",
   "execution_count": 33,
   "metadata": {},
   "outputs": [],
   "source": [
    "# function to read raw text file\n",
    "def read_text(filename):\n",
    "        # open the file\n",
    "        file = open(filename, mode='rt', encoding='utf-8')\n",
    "        \n",
    "        # read all text\n",
    "        text = file.read()\n",
    "        file.close()\n",
    "        return text"
   ]
  },
  {
   "cell_type": "markdown",
   "metadata": {},
   "source": [
    "Let’s define another function to split the text into English-Hindi pairs separated by ‘\\n’.\n",
    "We’ll then split these pairs into English sentences and Hindi sentences respectively."
   ]
  },
  {
   "cell_type": "code",
   "execution_count": 34,
   "metadata": {},
   "outputs": [],
   "source": [
    "# split a text into sentences\n",
    "def to_lines(text):\n",
    "      sents = text.strip().split('\\n')\n",
    "      sents = [i.split('\\t') for i in sents]\n",
    "      return sents"
   ]
  },
  {
   "cell_type": "markdown",
   "metadata": {},
   "source": [
    "We can now use these functions to read the text into an array in our desired format."
   ]
  },
  {
   "cell_type": "code",
   "execution_count": 35,
   "metadata": {},
   "outputs": [],
   "source": [
    "data = read_text(\"hin-eng.txt\")\n",
    "hin_eng = to_lines(data)\n",
    "hin_eng = array(hin_eng)"
   ]
  },
  {
   "cell_type": "markdown",
   "metadata": {},
   "source": [
    "Let’s first take a look at our data. This will help us decide which pre-processing steps to adopt."
   ]
  },
  {
   "cell_type": "code",
   "execution_count": 36,
   "metadata": {},
   "outputs": [
    {
     "data": {
      "text/plain": [
       "array([['\\ufeffa babe in the woods ', 'जंगल में एक बच्चा '],\n",
       "       ['a baby at her breast ', 'उसके स्तन में एक बच्चा '],\n",
       "       ['a baby brother or sister ', 'एक बच्चा भाई या बहन '],\n",
       "       ...,\n",
       "       ['zoos and aquariums in silver ',\n",
       "        'चिड़ियाघर और एक्वैरियम चांदी में '],\n",
       "       ['zukerman joins us now to ',\n",
       "        'ज़ुकर्मन अब हमें इसमें शामिल हो जाता है '],\n",
       "       ['zulu nationalist inkatha freedom party ',\n",
       "        'ज़ुलू राष्ट्रवादी इनकाथा स्वतंत्रता पार्टी']], dtype='<U174')"
      ]
     },
     "execution_count": 36,
     "metadata": {},
     "output_type": "execute_result"
    }
   ],
   "source": [
    "hin_eng"
   ]
  },
  {
   "cell_type": "code",
   "execution_count": 37,
   "metadata": {},
   "outputs": [
    {
     "data": {
      "text/plain": [
       "1044268"
      ]
     },
     "execution_count": 37,
     "metadata": {},
     "output_type": "execute_result"
    }
   ],
   "source": [
    "len(hin_eng)"
   ]
  },
  {
   "cell_type": "markdown",
   "metadata": {},
   "source": [
    "The actual data contains over 1044268 sentence-pairs. However, we will use full data. \n",
    "You can change this number as per your system’s computation power."
   ]
  },
  {
   "cell_type": "code",
   "execution_count": 38,
   "metadata": {},
   "outputs": [],
   "source": [
    "hin_eng =hin_eng[:1044268,:]"
   ]
  },
  {
   "cell_type": "markdown",
   "metadata": {},
   "source": [
    "We will get rid of the punctuation marks and then convert all the text to lower case."
   ]
  },
  {
   "cell_type": "code",
   "execution_count": 39,
   "metadata": {},
   "outputs": [
    {
     "data": {
      "text/plain": [
       "array([['\\ufeffa babe in the woods ', 'जंगल में एक बच्चा '],\n",
       "       ['a baby at her breast ', 'उसके स्तन में एक बच्चा '],\n",
       "       ['a baby brother or sister ', 'एक बच्चा भाई या बहन '],\n",
       "       ...,\n",
       "       ['zoos and aquariums in silver ',\n",
       "        'चिड़ियाघर और एक्वैरियम चांदी में '],\n",
       "       ['zukerman joins us now to ',\n",
       "        'ज़ुकर्मन अब हमें इसमें शामिल हो जाता है '],\n",
       "       ['zulu nationalist inkatha freedom party ',\n",
       "        'ज़ुलू राष्ट्रवादी इनकाथा स्वतंत्रता पार्टी']], dtype='<U174')"
      ]
     },
     "execution_count": 39,
     "metadata": {},
     "output_type": "execute_result"
    }
   ],
   "source": [
    "# Remove punctuation\n",
    "hin_eng[:,0] = [s.translate(str.maketrans('', '', string.punctuation)) for s in hin_eng[:,0]]\n",
    "hin_eng[:,1] = [s.translate(str.maketrans('', '', string.punctuation)) for s in hin_eng[:,1]]\n",
    "\n",
    "hin_eng"
   ]
  },
  {
   "cell_type": "code",
   "execution_count": 40,
   "metadata": {},
   "outputs": [
    {
     "data": {
      "text/plain": [
       "array([['\\ufeffa babe in the woods ', 'जंगल में एक बच्चा '],\n",
       "       ['a baby at her breast ', 'उसके स्तन में एक बच्चा '],\n",
       "       ['a baby brother or sister ', 'एक बच्चा भाई या बहन '],\n",
       "       ...,\n",
       "       ['zoos and aquariums in silver ',\n",
       "        'चिड़ियाघर और एक्वैरियम चांदी में '],\n",
       "       ['zukerman joins us now to ',\n",
       "        'ज़ुकर्मन अब हमें इसमें शामिल हो जाता है '],\n",
       "       ['zulu nationalist inkatha freedom party ',\n",
       "        'ज़ुलू राष्ट्रवादी इनकाथा स्वतंत्रता पार्टी']], dtype='<U174')"
      ]
     },
     "execution_count": 40,
     "metadata": {},
     "output_type": "execute_result"
    }
   ],
   "source": [
    "# convert text to lowercase\n",
    "for i in range(len(hin_eng)):\n",
    "    hin_eng[i,0] = hin_eng[i,0].lower()\n",
    "    hin_eng[i,1] = hin_eng[i,1].lower()\n",
    "\n",
    "hin_eng"
   ]
  },
  {
   "cell_type": "markdown",
   "metadata": {},
   "source": [
    "A Seq2Seq model requires that we convert both the input and \n",
    "the output sentences into integer sequences of fixed length.\n",
    "\n",
    "But before we do that, let’s visualise the length of the sentences.\n",
    "We will capture the lengths of all the sentences in two separate lists for English and Hindi, respectively."
   ]
  },
  {
   "cell_type": "code",
   "execution_count": 41,
   "metadata": {},
   "outputs": [
    {
     "data": {
      "image/png": "[encoded data removed]",
      "text/plain": [
       "<Figure size 432x288 with 2 Axes>"
      ]
     },
     "metadata": {
      "needs_background": "light"
     },
     "output_type": "display_data"
    }
   ],
   "source": [
    "# empty lists\n",
    "eng_l = []\n",
    "hin_l = []\n",
    "\n",
    "# populate the lists with sentence lengths\n",
    "for i in hin_eng[:,0]:\n",
    "      eng_l.append(len(i.split()))\n",
    "\n",
    "for i in hin_eng[:,1]:\n",
    "      hin_l.append(len(i.split()))\n",
    "\n",
    "length_df = pd.DataFrame({'eng':eng_l, 'hin':hin_l})\n",
    "\n",
    "length_df.hist(bins = 30)\n",
    "plt.show()"
   ]
  },
  {
   "cell_type": "code",
   "execution_count": 42,
   "metadata": {},
   "outputs": [
    {
     "data": {
      "text/plain": [
       "['a', 'balance', 'between', 'the', 'two']"
      ]
     },
     "execution_count": 42,
     "metadata": {},
     "output_type": "execute_result"
    }
   ],
   "source": [
    "hin_eng[115,0].split()"
   ]
  },
  {
   "cell_type": "code",
   "execution_count": 43,
   "metadata": {},
   "outputs": [
    {
     "data": {
      "text/plain": [
       "5"
      ]
     },
     "execution_count": 43,
     "metadata": {},
     "output_type": "execute_result"
    }
   ],
   "source": [
    "len(hin_eng[115,0].split())"
   ]
  },
  {
   "cell_type": "markdown",
   "metadata": {},
   "source": [
    "Quite intuitive – the maximum length of the Hindi sentences is 11 and that of the English phrases is 5.\n",
    "\n",
    "Next, vectorize our text data by using Keras’s Tokenizer() class. \n",
    "It will turn our sentences into sequences of integers. \n",
    "We can then pad those sequences with zeros to make all the sequences of the same length.\n",
    "\n",
    "Note that we will prepare tokenizers for both the Hindi and English sentences:"
   ]
  },
  {
   "cell_type": "code",
   "execution_count": 16,
   "metadata": {},
   "outputs": [],
   "source": [
    "# function to build a tokenizer\n",
    "def tokenization(lines):\n",
    "      tokenizer = Tokenizer()\n",
    "      tokenizer.fit_on_texts(lines)\n",
    "      return tokenizer"
   ]
  },
  {
   "cell_type": "code",
   "execution_count": 44,
   "metadata": {},
   "outputs": [
    {
     "name": "stdout",
     "output_type": "stream",
     "text": [
      "English Vocabulary Size: 24864\n"
     ]
    }
   ],
   "source": [
    "# prepare english tokenizer\n",
    "eng_tokenizer = tokenization(hin_eng[:, 0])\n",
    "eng_vocab_size = len(eng_tokenizer.word_index) + 1\n",
    "\n",
    "eng_length = 11\n",
    "print('English Vocabulary Size: %d' % eng_vocab_size)"
   ]
  },
  {
   "cell_type": "code",
   "execution_count": 45,
   "metadata": {},
   "outputs": [
    {
     "name": "stdout",
     "output_type": "stream",
     "text": [
      "hindi Vocabulary Size: 26116\n"
     ]
    }
   ],
   "source": [
    "# prepare Deutch tokenizer\n",
    "hin_tokenizer = tokenization(hin_eng[:, 1])\n",
    "hin_vocab_size = len(hin_tokenizer.word_index) + 1\n",
    "\n",
    "hin_length =11\n",
    "print('hindi Vocabulary Size: %d' % hin_vocab_size)"
   ]
  },
  {
   "cell_type": "markdown",
   "metadata": {},
   "source": [
    "The below code block contains a function to prepare the sequences. \n",
    "It will also perform sequence padding to a maximum sentence length as mentioned above."
   ]
  },
  {
   "cell_type": "code",
   "execution_count": 46,
   "metadata": {},
   "outputs": [],
   "source": [
    "# encode and pad sequences\n",
    "def encode_sequences(tokenizer, length, lines):\n",
    "         # integer encode sequences\n",
    "         seq = tokenizer.texts_to_sequences(lines)\n",
    "         # pad sequences with 0 values\n",
    "         seq = pad_sequences(seq, maxlen=length, padding='post')\n",
    "         return seq"
   ]
  },
  {
   "cell_type": "markdown",
   "metadata": {},
   "source": [
    "# ModelBuilding"
   ]
  },
  {
   "cell_type": "markdown",
   "metadata": {},
   "source": [
    "We will now split the data into train and test set for model training and evaluation, respectively."
   ]
  },
  {
   "cell_type": "code",
   "execution_count": 47,
   "metadata": {},
   "outputs": [],
   "source": [
    "import sklearn"
   ]
  },
  {
   "cell_type": "code",
   "execution_count": 48,
   "metadata": {},
   "outputs": [],
   "source": [
    "from sklearn.model_selection import train_test_split\n",
    "\n",
    "# split data into train and test set\n",
    "train, test = train_test_split(hin_eng, test_size=0.1, random_state = 12)"
   ]
  },
  {
   "cell_type": "markdown",
   "metadata": {},
   "source": [
    "It’s time to encode the sentences. We will encode English sentences as the input sequences\n",
    "and Hindi sentences as the target sequences. This has to be done for both the train and test datasets."
   ]
  },
  {
   "cell_type": "code",
   "execution_count": 49,
   "metadata": {},
   "outputs": [],
   "source": [
    "# prepare training data\n",
    "trainX = encode_sequences(hin_tokenizer, hin_length, train[:, 1])\n",
    "trainY = encode_sequences(eng_tokenizer, eng_length, train[:, 0])\n",
    "\n",
    "# prepare validation data\n",
    "testX = encode_sequences(hin_tokenizer, hin_length, test[:, 1])\n",
    "testY = encode_sequences(eng_tokenizer, eng_length, test[:, 0])"
   ]
  },
  {
   "cell_type": "markdown",
   "metadata": {},
   "source": [
    "We’ll start off by defining our Seq2Seq model architecture:\n",
    "\n",
    "For the encoder, we will use an embedding layer and an LSTM layer\n",
    "For the decoder, we will use another LSTM layer followed by a dense layer"
   ]
  },
  {
   "cell_type": "code",
   "execution_count": 50,
   "metadata": {},
   "outputs": [],
   "source": [
    "# build NMT model\n",
    "def define_model(in_vocab,out_vocab, in_timesteps,out_timesteps,units):\n",
    "      model = Sequential()\n",
    "      model.add(Embedding(in_vocab, units, input_length=in_timesteps, mask_zero=True))\n",
    "      model.add(LSTM(units))\n",
    "      model.add(RepeatVector(out_timesteps))\n",
    "      model.add(LSTM(units, return_sequences=True))\n",
    "      model.add(Dense(out_vocab, activation='softmax'))\n",
    "      return model"
   ]
  },
  {
   "cell_type": "markdown",
   "metadata": {},
   "source": [
    "We are using the RMSprop optimizer in this model as it’s usually a good choice when working with recurrent neural networks."
   ]
  },
  {
   "cell_type": "code",
   "execution_count": 51,
   "metadata": {},
   "outputs": [],
   "source": [
    "# model compilation\n",
    "model = define_model(eng_vocab_size, hin_vocab_size, eng_length, hin_length, 512)"
   ]
  },
  {
   "cell_type": "code",
   "execution_count": 52,
   "metadata": {},
   "outputs": [],
   "source": [
    "rms = optimizers.RMSprop(lr=0.001)\n",
    "model.compile(optimizer=rms, loss='sparse_categorical_crossentropy')"
   ]
  },
  {
   "cell_type": "markdown",
   "metadata": {},
   "source": [
    "Please note that we have used ‘sparse_categorical_crossentropy‘ as the loss function.\n",
    "This is because the function allows us to use the target sequence as is, instead of the one-hot encoded format. \n",
    "One-hot encoding the target sequences using such a huge vocabulary might consume our system’s entire memory.\n",
    "\n",
    "We are all set to start training our model!\n",
    "\n",
    "We will train it for 12 epochs and with a batch size of 512 with a validation split of 10%.\n",
    "90% of the data will be used for training the model and the rest for evaluating it.\n",
    "You may change and play around with these hyperparameters.\n",
    "\n",
    "We will also use the ModelCheckpoint() function to save the model with the lowest validation loss."
   ]
  },
  {
   "cell_type": "code",
   "execution_count": 58,
   "metadata": {},
   "outputs": [
    {
     "name": "stdout",
     "output_type": "stream",
     "text": [
      "Train on 845856 samples, validate on 93985 samples\n",
      "Epoch 1/12\n",
      "845856/845856 [==============================] - 11780s 14ms/step - loss: 1.9319 - val_loss: 1.2599\n",
      "\n",
      "Epoch 00001: val_loss improved from inf to 1.25990, saving model to model.h1.13_apr_19\n",
      "Epoch 2/12\n",
      "845856/845856 [==============================] - 11701s 14ms/step - loss: 1.0260 - val_loss: 0.9691\n",
      "\n",
      "Epoch 00002: val_loss improved from 1.25990 to 0.96911, saving model to model.h1.13_apr_19\n",
      "Epoch 3/12\n",
      "845856/845856 [==============================] - 11722s 14ms/step - loss: 0.8320 - val_loss: 0.8396\n",
      "\n",
      "Epoch 00003: val_loss improved from 0.96911 to 0.83963, saving model to model.h1.13_apr_19\n",
      "Epoch 4/12\n",
      "845856/845856 [==============================] - 11747s 14ms/step - loss: 0.7378 - val_loss: 0.7962\n",
      "\n",
      "Epoch 00004: val_loss improved from 0.83963 to 0.79620, saving model to model.h1.13_apr_19\n",
      "Epoch 5/12\n",
      "845856/845856 [==============================] - 11757s 14ms/step - loss: 0.6757 - val_loss: 0.7609\n",
      "\n",
      "Epoch 00005: val_loss improved from 0.79620 to 0.76093, saving model to model.h1.13_apr_19\n",
      "Epoch 6/12\n",
      "845856/845856 [==============================] - 11742s 14ms/step - loss: 0.6263 - val_loss: 0.7566\n",
      "\n",
      "Epoch 00006: val_loss improved from 0.76093 to 0.75657, saving model to model.h1.13_apr_19\n",
      "Epoch 7/12\n",
      "845856/845856 [==============================] - 11750s 14ms/step - loss: 0.5867 - val_loss: 0.7368\n",
      "\n",
      "Epoch 00007: val_loss improved from 0.75657 to 0.73677, saving model to model.h1.13_apr_19\n",
      "Epoch 8/12\n",
      "845856/845856 [==============================] - 11765s 14ms/step - loss: 0.5515 - val_loss: 0.7290\n",
      "\n",
      "Epoch 00008: val_loss improved from 0.73677 to 0.72899, saving model to model.h1.13_apr_19\n",
      "Epoch 9/12\n",
      "845856/845856 [==============================] - 11756s 14ms/step - loss: 0.5196 - val_loss: 0.7279\n",
      "\n",
      "Epoch 00009: val_loss improved from 0.72899 to 0.72791, saving model to model.h1.13_apr_19\n",
      "Epoch 10/12\n",
      "845856/845856 [==============================] - 11748s 14ms/step - loss: 0.4915 - val_loss: 0.7299\n",
      "\n",
      "Epoch 00010: val_loss did not improve from 0.72791\n",
      "Epoch 11/12\n",
      "845856/845856 [==============================] - 11732s 14ms/step - loss: 0.4662 - val_loss: 0.7374\n",
      "\n",
      "Epoch 00011: val_loss did not improve from 0.72791\n",
      "Epoch 12/12\n",
      "845856/845856 [==============================] - 11730s 14ms/step - loss: 0.4423 - val_loss: 0.7378\n",
      "\n",
      "Epoch 00012: val_loss did not improve from 0.72791\n"
     ]
    }
   ],
   "source": [
    "filename = 'model.h1.13_apr_19'\n",
    "checkpoint = ModelCheckpoint(filename, monitor='val_loss', verbose=1, save_best_only=True, mode='min')\n",
    "\n",
    "# train model\n",
    "history = model.fit(trainY, trainX.reshape(trainX.shape[0], trainX.shape[1], 1),\n",
    "                    epochs=12, batch_size=512, validation_split = 0.1,callbacks=[checkpoint], \n",
    "                    verbose=1)"
   ]
  },
  {
   "cell_type": "markdown",
   "metadata": {},
   "source": [
    "Let’s compare the training loss and the validation loss."
   ]
  },
  {
   "cell_type": "code",
   "execution_count": 59,
   "metadata": {},
   "outputs": [
    {
     "data": {
      "image/png": "[encoded data removed]",
      "text/plain": [
       "<Figure size 432x288 with 1 Axes>"
      ]
     },
     "metadata": {
      "needs_background": "light"
     },
     "output_type": "display_data"
    }
   ],
   "source": [
    "plt.plot(history.history['loss'])\n",
    "plt.plot(history.history['val_loss'])\n",
    "plt.legend(['train','validation'])\n",
    "plt.show()"
   ]
  },
  {
   "cell_type": "markdown",
   "metadata": {},
   "source": [
    "As you can see in the above plot, the validation loss stopped decreasing after 10 epochs.\n",
    "\n",
    "Finally, we can load the saved model and make predictions on the unseen data – testY."
   ]
  },
  {
   "cell_type": "code",
   "execution_count": 67,
   "metadata": {},
   "outputs": [
    {
     "name": "stdout",
     "output_type": "stream",
     "text": [
      "Train on 9000 samples, validate on 1000 samples\n",
      "Epoch 1/1\n",
      "9000/9000 [==============================] - 128s 14ms/step - loss: 0.4790 - val_loss: 0.4844\n"
     ]
    },
    {
     "data": {
      "text/plain": [
       "<keras.callbacks.History at 0x497d39b0>"
      ]
     },
     "execution_count": 67,
     "metadata": {},
     "output_type": "execute_result"
    }
   ],
   "source": [
    "#Load Weights file\n",
    "weightsfile= \"model.h1.13_apr_19\"\n",
    "\n",
    "#FInd the number of the epoch from the file name\n",
    "model.load_weights(weightsfile)\n",
    "\n",
    "# compile network\n",
    "model.compile(optimizer=rms, loss='sparse_categorical_crossentropy')\n",
    "\n",
    "\n",
    "model.fit(trainY[0:10000], trainX[0:10000].reshape(trainX[0:10000].shape[0], trainX[0:10000].shape[1], 1),epochs=1, \n",
    "           batch_size=512, validation_split = 0.1, verbose=1)\n",
    "# fit network\n",
    "# model.fit(trainY, trainX.reshape(trainX.shape[0], trainX.shape[1], 1),epochs=1, \n",
    " #         batch_size=512, validation_split = 0.1,callbacks=[checkpoint], verbose=1)"
   ]
  },
  {
   "cell_type": "code",
   "execution_count": 70,
   "metadata": {
    "scrolled": true
   },
   "outputs": [],
   "source": [
    "model = load_model('model.h1.13_apr_19')\n",
    "preds = model.predict_classes(testY[0:1000].reshape((testY[0:1000].shape[0],testY[0:1000].shape[1])))"
   ]
  },
  {
   "cell_type": "markdown",
   "metadata": {},
   "source": [
    "These predictions are sequences of integers.\n",
    "We need to convert these integers to their corresponding words. Let’s define a function to do this:"
   ]
  },
  {
   "cell_type": "code",
   "execution_count": 71,
   "metadata": {},
   "outputs": [],
   "source": [
    "def get_word(n, tokenizer):\n",
    "      for word, index in tokenizer.word_index.items():\n",
    "          if index == n:\n",
    "              return word\n",
    "      return None"
   ]
  },
  {
   "cell_type": "markdown",
   "metadata": {},
   "source": [
    "Convert predictions into text (Hindi)"
   ]
  },
  {
   "cell_type": "code",
   "execution_count": 72,
   "metadata": {},
   "outputs": [],
   "source": [
    "preds_text = []\n",
    "for i in preds:\n",
    "       temp = []\n",
    "       for j in range(len(i)):\n",
    "            t = get_word(i[j], hin_tokenizer)\n",
    "            if j > 0:\n",
    "                if (t == get_word(i[j-1], hin_tokenizer)) or (t == None):\n",
    "                     temp.append('')\n",
    "                else:\n",
    "                     temp.append(t)\n",
    "            else:\n",
    "                   if(t == None):\n",
    "                          temp.append('')\n",
    "                   else:\n",
    "                          temp.append(t) \n",
    "\n",
    "       preds_text.append(' '.join(temp))"
   ]
  },
  {
   "cell_type": "code",
   "execution_count": 92,
   "metadata": {},
   "outputs": [],
   "source": [
    "pred_df = pd.DataFrame({'actual' : test[0:1000][:,1], 'predicted' : preds_text})"
   ]
  },
  {
   "cell_type": "markdown",
   "metadata": {},
   "source": [
    "We can randomly print some actual vs predicted instances to see how our model performs:"
   ]
  },
  {
   "cell_type": "code",
   "execution_count": 93,
   "metadata": {},
   "outputs": [
    {
     "data": {
      "text/html": [
       "<div>\n",
       "<style scoped>\n",
       "    .dataframe tbody tr th:only-of-type {\n",
       "        vertical-align: middle;\n",
       "    }\n",
       "\n",
       "    .dataframe tbody tr th {\n",
       "        vertical-align: top;\n",
       "    }\n",
       "\n",
       "    .dataframe thead th {\n",
       "        text-align: right;\n",
       "    }\n",
       "</style>\n",
       "<table border=\"1\" class=\"dataframe\">\n",
       "  <thead>\n",
       "    <tr style=\"text-align: right;\">\n",
       "      <th></th>\n",
       "      <th>actual</th>\n",
       "      <th>predicted</th>\n",
       "    </tr>\n",
       "  </thead>\n",
       "  <tbody>\n",
       "    <tr>\n",
       "      <th>357</th>\n",
       "      <td>क्या मुझे सौदा मिला है</td>\n",
       "      <td>मुझे  एक मिल है</td>\n",
       "    </tr>\n",
       "    <tr>\n",
       "      <th>891</th>\n",
       "      <td>इस लेख के लिए एक साक्षात्कार</td>\n",
       "      <td>इस लेख के लिए एक साक्षात्कार</td>\n",
       "    </tr>\n",
       "    <tr>\n",
       "      <th>822</th>\n",
       "      <td>विषय के साथ रखने में</td>\n",
       "      <td>विषय के साथ रखते में</td>\n",
       "    </tr>\n",
       "    <tr>\n",
       "      <th>895</th>\n",
       "      <td>फिल्म की है</td>\n",
       "      <td>फिल्म की है</td>\n",
       "    </tr>\n",
       "    <tr>\n",
       "      <th>838</th>\n",
       "      <td>सेक्स करने के बारे में सामाजिक मानदंड</td>\n",
       "      <td>सेक्स बनाने के बारे में सेक्स</td>\n",
       "    </tr>\n",
       "    <tr>\n",
       "      <th>859</th>\n",
       "      <td>आप एक के साथ समाप्त हो गया</td>\n",
       "      <td>आप एक के साथ समाप्त हो गया</td>\n",
       "    </tr>\n",
       "    <tr>\n",
       "      <th>964</th>\n",
       "      <td>लेकिन ऐसा नहीं लगता</td>\n",
       "      <td>लेकिन ऐसा नहीं लगता</td>\n",
       "    </tr>\n",
       "    <tr>\n",
       "      <th>636</th>\n",
       "      <td>के साथ गति नहीं रखा है</td>\n",
       "      <td>के साथ गति नहीं है</td>\n",
       "    </tr>\n",
       "    <tr>\n",
       "      <th>861</th>\n",
       "      <td>कोई भी नहीं जानता कि क्या हुआ</td>\n",
       "      <td>कोई भी लिए नहीं  क्या जानता</td>\n",
       "    </tr>\n",
       "    <tr>\n",
       "      <th>123</th>\n",
       "      <td>हालांकि यह नहीं था</td>\n",
       "      <td>हालांकि यह नहीं था</td>\n",
       "    </tr>\n",
       "  </tbody>\n",
       "</table>\n",
       "</div>"
      ],
      "text/plain": [
       "                                     actual  \\\n",
       "357                 क्या मुझे सौदा मिला है    \n",
       "891           इस लेख के लिए एक साक्षात्कार    \n",
       "822                   विषय के साथ रखने में    \n",
       "895                            फिल्म की है    \n",
       "838  सेक्स करने के बारे में सामाजिक मानदंड    \n",
       "859             आप एक के साथ समाप्त हो गया    \n",
       "964                    लेकिन ऐसा नहीं लगता    \n",
       "636                 के साथ गति नहीं रखा है    \n",
       "861          कोई भी नहीं जानता कि क्या हुआ    \n",
       "123                     हालांकि यह नहीं था    \n",
       "\n",
       "                              predicted  \n",
       "357               मुझे  एक मिल है        \n",
       "891   इस लेख के लिए एक साक्षात्कार       \n",
       "822          विषय के साथ रखते में        \n",
       "895                 फिल्म की है          \n",
       "838  सेक्स बनाने के बारे में सेक्स       \n",
       "859      आप एक के साथ समाप्त हो गया      \n",
       "964          लेकिन ऐसा नहीं लगता         \n",
       "636            के साथ गति नहीं है        \n",
       "861     कोई भी लिए नहीं  क्या जानता      \n",
       "123           हालांकि यह नहीं था         "
      ]
     },
     "execution_count": 93,
     "metadata": {},
     "output_type": "execute_result"
    }
   ],
   "source": [
    "# print 15 rows randomly\n",
    "pred_df.sample(10)"
   ]
  },
  {
   "cell_type": "markdown",
   "metadata": {},
   "source": [
    "Our Seq2Seq model does a decent job. But there are several instances where it misses out on understanding the key words."
   ]
  }
 ],
 "metadata": {
  "kernelspec": {
   "display_name": "Python 3",
   "language": "python",
   "name": "python3"
  },
  "language_info": {
   "codemirror_mode": {
    "name": "ipython",
    "version": 3
   },
   "file_extension": ".py",
   "mimetype": "text/x-python",
   "name": "python",
   "nbconvert_exporter": "python",
   "pygments_lexer": "ipython3",
   "version": "3.7.0"
  }
 },
 "nbformat": 4,
 "nbformat_minor": 2
}
